{
 "cells": [
  {
   "cell_type": "markdown",
   "metadata": {},
   "source": [
    "<table><tr>\n",
    "    <td  style=\"background-color:#ffffff;text-align:left;\"><a href=\"http://qworld.lu.lv\" target=\"_blank\"><img src=\"images/qworld.jpg\" width=\"30%\" align=\"left\"></a></td>\n",
    "    <td style=\"background-color:#ffffff;\">&nbsp;</td>\n",
    "    <td style=\"background-color:#ffffff;vertical-align:text-middle;text-align:right;\">\n",
    "        <table><tr style=\"background-color:white;\">\n",
    "            <td>Follow</td>\n",
    "            <td><a href=\"https://www.facebook.com/qworld19/\" target=\"_blank\"><img src=\"images/facebook-icon.png\" width=\"40px\"></a></td>\n",
    "            <td><a href=\"https://twitter.com/QWorld19\" target=\"_blank\"><img src=\"images/twitter-icon.png\" width=\"40px\"></a></td>\n",
    "            <td width=\"10pt\"></td>\n",
    "            <td> Join</td>\n",
    "            <td><a href=\"https://qworldworkspace.slack.com/\" target=\"_blank\"><img src=\"images/slack-icon.png\" width=\"80px\"></a></td>\n",
    "             <td width=\"10pt\"></td>\n",
    "            <td> Visit</td>\n",
    "            <td><a href=\"http://qworld.lu.lv\" target=\"_blank\"><img src=\"images/web-logo.png\" width=\"35px\"></a></td>\n",
    "        </tr></table>\n",
    "    </td>     \n",
    "</tr></table>"
   ]
  },
  {
   "cell_type": "markdown",
   "metadata": {},
   "source": [
    "<h1 align=\"center\" style=\"color: #cd7f32;\"> Before Workshop </h1>\n",
    "\n",
    "We use Qiskit library to write our quantum programs. Please check the first notebook below to complete your installation and also test your system.\n",
    "\n",
    "If you are not familiar with Python, then complete all notebooks listed under section \"Python review\".\n",
    "\n",
    "Complete all notebooks listed under section \"Basic math\" before the workshop starts."
   ]
  },
  {
   "cell_type": "markdown",
   "metadata": {},
   "source": [
    "### Installation and Test\n",
    "\n",
    "<a href=\"test/Qiskit_installation_and_test.ipynb\" target=\"_blank\">Qiskit installation and test</a>\n",
    "\n",
    "### Python review\n",
    "\n",
    "[Variables](python/Python08_Basics_Variables.ipynb) &nbsp;|&nbsp;\n",
    "[Loops](python/Python12_Basics_Loops.ipynb) &nbsp;|&nbsp;\n",
    "[Conditionals](python/Python16_Basics_Conditionals.ipynb) &nbsp;|&nbsp;\n",
    "[Lists](python/Python20_Basics_Lists.ipynb)\n",
    "\n",
    "### Basic math\n",
    "\n",
    "[Vectors](math/Math20_Vectors.ipynb) &nbsp;|&nbsp;\n",
    "[Dot Product](math/Math24_Dot_Product.ipynb) &nbsp;|&nbsp;\n",
    "[Matrices](math/Math28_Matrices.ipynb) &nbsp;|&nbsp;\n",
    "[Tensor Product](math/Math32_Tensor_Product.ipynb) &nbsp;|&nbsp;\n",
    "[Exercises](exercises/E05_Basic_Math.ipynb)"
   ]
  }
 ],
 "metadata": {
  "kernelspec": {
   "display_name": "Python 3",
   "language": "python",
   "name": "python3"
  },
  "language_info": {
   "codemirror_mode": {
    "name": "ipython",
    "version": 3
   },
   "file_extension": ".py",
   "mimetype": "text/x-python",
   "name": "python",
   "nbconvert_exporter": "python",
   "pygments_lexer": "ipython3",
   "version": "3.7.1"
  }
 },
 "nbformat": 4,
 "nbformat_minor": 2
}
