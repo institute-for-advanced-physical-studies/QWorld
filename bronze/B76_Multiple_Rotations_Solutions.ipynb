{
 "cells": [
  {
   "cell_type": "markdown",
   "metadata": {},
   "source": [
    "<table> <tr>\n",
    "        <td  style=\"background-color:#ffffff;\">\n",
    "            <a href=\"http://qworld.lu.lv\" target=\"_blank\"><img src=\"../images/qworld.jpg\" width=\"25%\" align=\"left\"> </a></td>\n",
    "        <td style=\"background-color:#ffffff;vertical-align:bottom;text-align:right;\">\n",
    "            prepared by <a href=\"http://abu.lu.lv\" target=\"_blank\">Abuzer Yakaryilmaz</a> (<a href=\"http://qworld.lu.lv/index.php/qlatvia/\" target=\"_blank\">QLatvia</a>)\n",
    "        </td>        \n",
    "</tr></table>"
   ]
  },
  {
   "cell_type": "markdown",
   "metadata": {},
   "source": [
    "<table width=\"100%\"><tr><td style=\"color:#bbbbbb;background-color:#ffffff;font-size:11px;font-style:italic;text-align:right;\">This cell contains some macros. If there is a problem with displaying mathematical formulas, please run this cell to load these macros. </td></tr></table>\n",
    "$ \\newcommand{\\bra}[1]{\\langle #1|} $\n",
    "$ \\newcommand{\\ket}[1]{|#1\\rangle} $\n",
    "$ \\newcommand{\\braket}[2]{\\langle #1|#2\\rangle} $\n",
    "$ \\newcommand{\\dot}[2]{ #1 \\cdot #2} $\n",
    "$ \\newcommand{\\biginner}[2]{\\left\\langle #1,#2\\right\\rangle} $\n",
    "$ \\newcommand{\\mymatrix}[2]{\\left( \\begin{array}{#1} #2\\end{array} \\right)} $\n",
    "$ \\newcommand{\\myvector}[1]{\\mymatrix{c}{#1}} $\n",
    "$ \\newcommand{\\myrvector}[1]{\\mymatrix{r}{#1}} $\n",
    "$ \\newcommand{\\mypar}[1]{\\left( #1 \\right)} $\n",
    "$ \\newcommand{\\mybigpar}[1]{ \\Big( #1 \\Big)} $\n",
    "$ \\newcommand{\\sqrttwo}{\\frac{1}{\\sqrt{2}}} $\n",
    "$ \\newcommand{\\dsqrttwo}{\\dfrac{1}{\\sqrt{2}}} $\n",
    "$ \\newcommand{\\onehalf}{\\frac{1}{2}} $\n",
    "$ \\newcommand{\\donehalf}{\\dfrac{1}{2}} $\n",
    "$ \\newcommand{\\hadamard}{ \\mymatrix{rr}{ \\sqrttwo & \\sqrttwo \\\\ \\sqrttwo & -\\sqrttwo }} $\n",
    "$ \\newcommand{\\vzero}{\\myvector{1\\\\0}} $\n",
    "$ \\newcommand{\\vone}{\\myvector{0\\\\1}} $\n",
    "$ \\newcommand{\\stateplus}{\\myvector{ \\sqrttwo \\\\  \\sqrttwo } } $\n",
    "$ \\newcommand{\\stateminus}{ \\myrvector{ \\sqrttwo \\\\ -\\sqrttwo } } $\n",
    "$ \\newcommand{\\myarray}[2]{ \\begin{array}{#1}#2\\end{array}} $\n",
    "$ \\newcommand{\\X}{ \\mymatrix{cc}{0 & 1 \\\\ 1 & 0}  } $\n",
    "$ \\newcommand{\\I}{ \\mymatrix{rr}{1 & 0 \\\\ 0 & 1}  } $\n",
    "$ \\newcommand{\\Z}{ \\mymatrix{rr}{1 & 0 \\\\ 0 & -1}  } $\n",
    "$ \\newcommand{\\Htwo}{ \\mymatrix{rrrr}{ \\frac{1}{2} & \\frac{1}{2} & \\frac{1}{2} & \\frac{1}{2} \\\\ \\frac{1}{2} & -\\frac{1}{2} & \\frac{1}{2} & -\\frac{1}{2} \\\\ \\frac{1}{2} & \\frac{1}{2} & -\\frac{1}{2} & -\\frac{1}{2} \\\\ \\frac{1}{2} & -\\frac{1}{2} & -\\frac{1}{2} & \\frac{1}{2} } } $\n",
    "$ \\newcommand{\\CNOT}{ \\mymatrix{cccc}{1 & 0 & 0 & 0 \\\\ 0 & 1 & 0 & 0 \\\\ 0 & 0 & 0 & 1 \\\\ 0 & 0 & 1 & 0} } $\n",
    "$ \\newcommand{\\norm}[1]{ \\left\\lVert #1 \\right\\rVert } $\n",
    "$ \\newcommand{\\pstate}[1]{ \\lceil \\mspace{-1mu} #1 \\mspace{-1.5mu} \\rfloor } $"
   ]
  },
  {
   "cell_type": "markdown",
   "metadata": {},
   "source": [
    "<h2> <font color=\"blue\"> Solutions for </font> Multiple Rotations</h2>"
   ]
  },
  {
   "cell_type": "markdown",
   "metadata": {},
   "source": [
    "<a id=\"task1\"></a>\n",
    "<h3> Task 1 </h3>\n",
    "\n",
    "Verify that the printed matrix is $ R(\\pi/4,\\pi/6) $."
   ]
  },
  {
   "cell_type": "markdown",
   "metadata": {},
   "source": [
    "<h3>Solution</h3>"
   ]
  },
  {
   "cell_type": "code",
   "execution_count": null,
   "metadata": {},
   "outputs": [],
   "source": [
    "from math import pi, sin, cos\n",
    "\n",
    "theta1 = pi/4\n",
    "theta2 = pi/6\n",
    "\n",
    "print(round(cos(theta1),3),-round(sin(theta1),3),0,0)\n",
    "print(round(sin(theta1),3),-round(cos(theta1),3),0,0)\n",
    "print(0,0,round(cos(theta2),3),-round(sin(theta2),3))\n",
    "print(0,0,round(sin(theta2),3),-round(cos(theta2),3))"
   ]
  },
  {
   "cell_type": "markdown",
   "metadata": {},
   "source": [
    "<a id=\"task2\"></a>\n",
    "<h3> Task 2</h3>\n",
    "\n",
    "Consider a quantum circuit with 3 qubits.\n",
    "\n",
    "When the second qubit is in state $ \\ket{1} $, apply the gate \n",
    "\n",
    "    cu3(theta1,0,0,qreg[2],qreg[0]) \n",
    "\n",
    "When the first qubit is in state $ \\ket{1} $, apply the gate\n",
    "    \n",
    "    cu3(theta2,0,0,qreg[1],qreg[0])\n",
    "    \n",
    "When the second qubit is in state $ \\ket{0} $, apply the gate\n",
    "\n",
    "    cu3(theta3,0,0,qreg[2],qreg[0])\n",
    "\n",
    "Guess the corresponding unitary matrix, which should be of the form:\n",
    "\n",
    "$$\n",
    "    \\mymatrix{rr|rr|rr|rr}{\n",
    "        \\cos a_1 & -\\sin a_1 & 0 & 0 & 0 & 0 & 0 & 0 \\\\\n",
    "        \\sin a_1 & \\cos a_1 & 0 & 0 & 0 & 0 & 0 & 0 \\\\ \\hline\n",
    "        0 & 0 & \\cos a_2 & -\\sin a_2 & 0 & 0 & 0 & 0  \\\\\n",
    "         0 & 0 & \\sin a_2 & \\cos a_2 & 0 & 0 & 0 & 0 \\\\ \\hline\n",
    "        0 & 0 & 0 & 0 & \\cos a_3 & -\\sin a_3 & 0 & 0  \\\\\n",
    "         0 & 0 & 0 & 0 & \\sin a_3 & \\cos a_3 & 0 & 0  \\\\ \\hline\n",
    "        0 & 0 & 0 & 0 & 0 & 0 & \\cos a_4 & -\\sin a_4 \\\\\n",
    "        0 & 0 & 0 & 0 & 0 & 0 & \\sin a_4 & \\cos a_4 \\\\ \n",
    "    }\n",
    "$$\n",
    "\n",
    "In other words, find $a_1$, $ a_2 $, $a_3$, and $a_4$ in terms of $ \\theta_1 $, $\\theta_2$, and $ \\theta_3 $."
   ]
  },
  {
   "cell_type": "markdown",
   "metadata": {},
   "source": [
    "<h3>Solution</h3>"
   ]
  },
  {
   "cell_type": "markdown",
   "metadata": {},
   "source": [
    "We use a table to easily trace the rotations applied to the first qubit:\n",
    "\n",
    "$$\n",
    "    \\myarray{|c|c|c|c|l|}{\n",
    "    \\hline\n",
    "      states & qreg[2] = \\ket{1} &  qreg[1] = \\ket{1} &  qreg[2] = \\ket{0} & rotations \\\\ \\hline\n",
    "      00 & & & \\theta_3 & a_1 =  \\theta_3 \\\\ \\hline\n",
    "      01 & & \\theta_2 & \\theta_3 & a_2 =  \\theta_2 + \\theta_3 \\\\ \\hline\n",
    "      10 & \\theta_1 & &  & a_3 =  \\theta_1 \\\\ \\hline\n",
    "      11 & \\theta_1 & \\theta_2 &  & a_4 =  \\theta_1 + \\theta_2 \\\\ \\hline\n",
    "    }\n",
    "$$"
   ]
  },
  {
   "cell_type": "markdown",
   "metadata": {},
   "source": [
    "<a id=\"task3\"></a>\n",
    "<h3> Task 3 </h3>\n",
    "\n",
    "Implement Task 2 by picking three angles, and verify the constructed matrix."
   ]
  },
  {
   "cell_type": "markdown",
   "metadata": {},
   "source": [
    "<h3>Solution</h3>"
   ]
  },
  {
   "cell_type": "code",
   "execution_count": null,
   "metadata": {},
   "outputs": [],
   "source": [
    "from qiskit import QuantumRegister, ClassicalRegister, QuantumCircuit, execute, Aer\n",
    "from math import pi, sin, cos\n",
    "\n",
    "# the angle of rotation\n",
    "theta1 = pi/23\n",
    "theta2 = 2*pi/23\n",
    "theta3 = 4*pi/23\n",
    "\n",
    "\n",
    "precision = 3\n",
    "\n",
    "print(\"a1 = theta3 => sin(a1) = \",round(sin(theta3),precision))\n",
    "print(\"a2 = theta2+theta3 => sin(a2) = \",round(sin(theta2+theta3),precision))\n",
    "print(\"a3 = theta1 => sin(a3) = \",round(sin(theta1),precision))\n",
    "print(\"a4 = theta1+theta2 => sin(a4) = \",round(sin(theta1+theta2),precision))\n",
    "print()\n",
    "\n",
    "qreg = QuantumRegister(3) \n",
    "creg = ClassicalRegister(3) \n",
    "circuit = QuantumCircuit(qreg,creg)\n",
    "\n",
    "# controlled rotation when the third qubit is |1>\n",
    "circuit.cu3(2*theta1,0,0,qreg[2],qreg[0])\n",
    "\n",
    "# controlled rotation when the second qubit is |1>\n",
    "circuit.cu3(2*theta2,0,0,qreg[1],qreg[0])\n",
    "\n",
    "# controlled rotation when the third qubit is |0>\n",
    "circuit.x(qreg[2])\n",
    "circuit.cu3(2*theta3,0,0,qreg[2],qreg[0])\n",
    "circuit.x(qreg[2])\n",
    "\n",
    "# read the corresponding unitary matrix\n",
    "job = execute(circuit,Aer.get_backend('unitary_simulator'),optimization_level=0)\n",
    "unitary_matrix=job.result().get_unitary(circuit,decimals=precision)\n",
    "for i in range(len(unitary_matrix)):\n",
    "    s=\"\"\n",
    "    for j in range(len(unitary_matrix)):\n",
    "        val = str(unitary_matrix[i][j].real)\n",
    "        while(len(val)<precision+4): val  = \" \"+val\n",
    "        s = s + val\n",
    "    print(s)"
   ]
  },
  {
   "cell_type": "markdown",
   "metadata": {},
   "source": [
    "<a id=\"task4\"></a>\n",
    "<h3>Task 4</h3>\n",
    "\n",
    "Create a circuit for solving problem $ \\sf MOD_{31} $ by using the implementation in Task 3.\n",
    "\n",
    "Pick $ \\theta_1 $, $ \\theta_2 $, and $ \\theta_3 $ randomly.\n",
    "\n",
    "At the beginning of the stream and after reading the stream, apply Hadamard operators to each qubit.\n",
    "\n",
    "Execute your quantum program on the streams of lengths from 1 to 31."
   ]
  },
  {
   "cell_type": "markdown",
   "metadata": {},
   "source": [
    "<h3>Solution</h3>"
   ]
  },
  {
   "cell_type": "code",
   "execution_count": null,
   "metadata": {},
   "outputs": [],
   "source": [
    "from qiskit import QuantumRegister, ClassicalRegister, QuantumCircuit, execute, Aer\n",
    "from math import pi, sin, cos\n",
    "from random import randrange\n",
    "\n",
    "# the angle of rotation\n",
    "k1 = randrange(1,31)\n",
    "theta1 = k1*2*pi/31\n",
    "k2 = randrange(1,31)\n",
    "theta2 = k2*2*pi/31\n",
    "k3 = randrange(1,31)\n",
    "theta3 = k3*2*pi/31\n",
    "\n",
    "max_percentange = 0\n",
    "    \n",
    "# for each stream of length from 1 to 31\n",
    "for i in range(1,32):    \n",
    "    # initialize the circuit\n",
    "    qreg = QuantumRegister(3) \n",
    "    creg = ClassicalRegister(3) \n",
    "    circuit = QuantumCircuit(qreg,creg)\n",
    "    \n",
    "    # Hadamard operators before reading the stream\n",
    "    for m in range(3):\n",
    "        circuit.h(qreg[m])   \n",
    "        \n",
    "    # read the stream of length i\n",
    "    print(\"stream of length\",i,\"is being read\")\n",
    "    for j in range(i):    \n",
    "        # controlled rotation when the third qubit is |1>\n",
    "        circuit.cu3(2*theta1,0,0,qreg[2],qreg[0])\n",
    "\n",
    "        # controlled rotation when the second qubit is |1>\n",
    "        circuit.cu3(2*theta2,0,0,qreg[1],qreg[0])\n",
    "\n",
    "        # controlled rotation when the third qubit is |0>\n",
    "        circuit.x(qreg[2])\n",
    "        circuit.cu3(2*theta3,0,0,qreg[2],qreg[0])\n",
    "        circuit.x(qreg[2])\n",
    "        \n",
    "    # Hadamard operators after reading the stream\n",
    "    for m in range(3):\n",
    "        circuit.h(qreg[m])  \n",
    "    # we measure after reading the whole stream\n",
    "    circuit.measure(qreg,creg)\n",
    "    # execute the circuit N times\n",
    "    N = 1000\n",
    "    job = execute(circuit,Aer.get_backend('qasm_simulator'),shots=N)\n",
    "    counts = job.result().get_counts(circuit)\n",
    "    print(counts)\n",
    "    if '000' in counts.keys():\n",
    "        c = counts['000']\n",
    "    else:\n",
    "        c = 0\n",
    "    print('000 is observed',c,'times out of',N)\n",
    "    percentange = round(c/N*100,1)\n",
    "    if max_percentange < percentange and i != 31: max_percentange = percentange\n",
    "    print(\"the ration of 000 is \",percentange,\"%\")\n",
    "    print()  \n",
    "print(\"maximum percentage of observing unwanted '000' is\",max_percentange)"
   ]
  },
  {
   "cell_type": "markdown",
   "metadata": {},
   "source": [
    "<a id=\"task7\"></a>\n",
    "<h3>Task 7</h3>\n",
    "\n",
    "Create a circuit for solving problem $ \\sf MOD_{61} $ by using the above implementation.\n",
    "\n",
    "Pick $ \\theta_1 $, $ \\theta_2 $, $ \\theta_3 $, and $ \\theta_4 $ randomly.\n",
    "\n",
    "At the beginning of the stream and after reading the stream, apply Hadamard operators to each qubit.\n",
    "\n",
    "Execute your quantum program on the streams of lengths 1, 11, 21, 31, 41, 51, and 61."
   ]
  },
  {
   "cell_type": "markdown",
   "metadata": {},
   "source": [
    "<h3>Solution</h3>"
   ]
  },
  {
   "cell_type": "code",
   "execution_count": null,
   "metadata": {},
   "outputs": [],
   "source": [
    "from qiskit import QuantumRegister, ClassicalRegister, QuantumCircuit, execute, Aer\n",
    "from math import pi,sin\n",
    "from random import randrange\n",
    "\n",
    "# the angle of rotation\n",
    "k1 = randrange(1,61)\n",
    "theta1 = k1*2*pi/61\n",
    "k2 = randrange(1,61)\n",
    "theta2 = k2*2*pi/61\n",
    "k3 = randrange(1,61)\n",
    "theta3 = k3*2*pi/61\n",
    "k4 = randrange(1,61)\n",
    "theta4 = k4*2*pi/61\n",
    "\n",
    "max_percentange = 0\n",
    "\n",
    "# for each stream of length of 1, 11, 21, 31, 41, 51, and 61\n",
    "for i in [1,11,21,31,41,51,61]: \n",
    "#for i in range(1,62): \n",
    "    # initialize the circuit\n",
    "    qreg =  QuantumRegister(4) \n",
    "    creg = ClassicalRegister(4)\n",
    "    circuit = QuantumCircuit(qreg,creg)\n",
    "\n",
    "    # Hadamard operators before reading the stream\n",
    "    for m in range(3):\n",
    "        circuit.h(qreg[m])   \n",
    "        \n",
    "    # read the stream of length i\n",
    "    print(\"stream of length\",i,\"is being read\")\n",
    "    for j in range(i):         \n",
    "        # the third qubit is in |0>\n",
    "        # the second qubit is in |0>\n",
    "        circuit.x(qreg[2])\n",
    "        circuit.x(qreg[1])\n",
    "        circuit.ccx(qreg[2],qreg[1],qreg[3])\n",
    "        circuit.cu3(2*theta1,0,0,qreg[3],qreg[0])\n",
    "        # reverse the effects\n",
    "        circuit.ccx(qreg[2],qreg[1],qreg[3])\n",
    "        circuit.x(qreg[1])\n",
    "        circuit.x(qreg[2])\n",
    "\n",
    "\n",
    "        # the third qubit is in |0>\n",
    "        # the second qubit is in |1>\n",
    "        circuit.x(qreg[2])\n",
    "        circuit.ccx(qreg[2],qreg[1],qreg[3])\n",
    "        circuit.cu3(2*theta2,0,0,qreg[3],qreg[0])\n",
    "        # reverse the effects\n",
    "        circuit.ccx(qreg[2],qreg[1],qreg[3])\n",
    "        circuit.x(qreg[2])\n",
    "\n",
    "        # the third qubit is in |1>\n",
    "        # the second qubit is in |0>\n",
    "        circuit.x(qreg[1])\n",
    "        circuit.ccx(qreg[2],qreg[1],qreg[3])\n",
    "        circuit.cu3(2*theta3,0,0,qreg[3],qreg[0])\n",
    "        # reverse the effects\n",
    "        circuit.ccx(qreg[2],qreg[1],qreg[3])\n",
    "        circuit.x(qreg[1])\n",
    "\n",
    "        # the third qubit is in |1>\n",
    "        # the second qubit is in |1>\n",
    "        circuit.ccx(qreg[2],qreg[1],qreg[3])\n",
    "        circuit.cu3(2*theta4,0,0,qreg[3],qreg[0])\n",
    "        # reverse the effects\n",
    "        circuit.ccx(qreg[2],qreg[1],qreg[3])\n",
    "        \n",
    "    # Hadamard operators after reading the stream\n",
    "    for m in range(3):\n",
    "        circuit.h(qreg[m])  \n",
    "    # we measure after reading the whole stream\n",
    "    circuit.measure(qreg,creg)\n",
    "    # execute the circuit N times\n",
    "    N = 1000\n",
    "    job = execute(circuit,Aer.get_backend('qasm_simulator'),shots=N)\n",
    "    counts = job.result().get_counts(circuit)\n",
    "    print(counts)\n",
    "    if '0000' in counts.keys():\n",
    "        c = counts['0000']\n",
    "    else:\n",
    "        c = 0\n",
    "    print('0000 is observed',c,'times out of',N)\n",
    "    percentange = round(c/N*100,1)\n",
    "    if max_percentange < percentange and i != 61: max_percentange = percentange\n",
    "    print(\"the ration of 0000 is \",percentange,\"%\")\n",
    "    print()  \n",
    "print(\"maximum percentage of observing unwanted '0000' is\",max_percentange)"
   ]
  },
  {
   "cell_type": "markdown",
   "metadata": {},
   "source": [
    "<a id=\"task8\"></a>\n",
    "<h3> Task 8 </h3>\n",
    "\n",
    "How many qubits we use to implement the main construction having 16 rotations in parallel?\n",
    "\n",
    "Please specify the number of control qubits and auxiliary qubits."
   ]
  },
  {
   "cell_type": "markdown",
   "metadata": {},
   "source": [
    "<h3>Solution</h3>"
   ]
  },
  {
   "cell_type": "markdown",
   "metadata": {},
   "source": [
    "For 16 rotations, we use 4 control qubits and 1 target qubit.\n",
    "\n",
    "For each pair of control qubits, we use 1 auxiliray qubit. \n",
    "\n",
    "For 4 control qubits, we use two auxiliary qubits. \n",
    "\n",
    "Then, we use one more auxiliary qubit controlled by these two auxiliary qubits.\n",
    "\n",
    "So, we need 4 control + 1 target + 3 auxiliary = 8 total qubits."
   ]
  },
  {
   "cell_type": "markdown",
   "metadata": {},
   "source": [
    "<a id=\"task9\"></a>\n",
    "<h3>Task 9</h3>\n",
    "\n",
    "By using the discussed ideas, how many qubits can we have to implement 16 rotations in parallel?\n",
    "\n",
    "Please specify the number of control qubits and auxiliary qubits."
   ]
  },
  {
   "cell_type": "markdown",
   "metadata": {},
   "source": [
    "<h3>Solution</h3>"
   ]
  },
  {
   "cell_type": "markdown",
   "metadata": {},
   "source": [
    "For 16 rotations, we use 4 control qubits and 1 target qubit.\n",
    "\n",
    "We can use 2 control qubits to control the NOT operation (CC-NOT gate). \n",
    "\n",
    "The remaining 2 control qubits can control the auxiliary qubit, that is used as a controller for rotations. \n",
    "\n",
    "Then, the auxiliary qubit can be used to control the rotations on the targed qubit.\n",
    "\n",
    "So, we need 4 control + 1 target + 1 auxiliary = 6 total qubits."
   ]
  },
  {
   "cell_type": "code",
   "execution_count": null,
   "metadata": {},
   "outputs": [],
   "source": []
  }
 ],
 "metadata": {
  "kernelspec": {
   "display_name": "Python 3",
   "language": "python",
   "name": "python3"
  },
  "language_info": {
   "codemirror_mode": {
    "name": "ipython",
    "version": 3
   },
   "file_extension": ".py",
   "mimetype": "text/x-python",
   "name": "python",
   "nbconvert_exporter": "python",
   "pygments_lexer": "ipython3",
   "version": "3.7.1"
  }
 },
 "nbformat": 4,
 "nbformat_minor": 2
}
