{
 "cells": [
  {
   "cell_type": "markdown",
   "metadata": {},
   "source": [
    "<table><tr>\n",
    "    <td  style=\"background-color:#ffffff;text-align:left;\"><a href=\"http://qworld.lu.lv\" target=\"_blank\"><img src=\"../images/qworld.jpg\" width=\"30%\" align=\"left\"></a></td>\n",
    "    <td style=\"background-color:#ffffff;\">&nbsp;</td>\n",
    "    <td style=\"background-color:#ffffff;vertical-align:text-middle;text-align:right;\">\n",
    "        <table><tr style=\"background-color:white;\">\n",
    "            <td> Visit</td>\n",
    "            <td><a href=\"http://qworld.lu.lv\" target=\"_blank\"><img src=\"../images/web-logo.png\" width=\"35px\"></a></td>\n",
    "            <td width=\"10pt\"></td>\n",
    "            <td> Join</td>\n",
    "            <td><a href=\"https://qworldworkspace.slack.com/\" target=\"_blank\"><img src=\"../images/slack-icon.png\" width=\"80px\"></a></td>\n",
    "            <td width=\"10pt\"></td>\n",
    "            <td>Follow</td>\n",
    "            <td><a href=\"https://www.facebook.com/qworld19/\" target=\"_blank\"><img src=\"../images/facebook-icon.png\" width=\"40px\"></a></td>\n",
    "            <td><a href=\"https://twitter.com/QWorld19\" target=\"_blank\"><img src=\"../images/twitter-icon.png\" width=\"40px\"></a></td>\n",
    "        </tr></table>\n",
    "    </td>     \n",
    "</tr></table>"
   ]
  },
  {
   "cell_type": "markdown",
   "metadata": {},
   "source": [
    "<h2> Credits </h2>"
   ]
  },
  {
   "cell_type": "markdown",
   "metadata": {},
   "source": [
    "<font style=\"color: #cd7f32;\"><b>Bronze</b></font> was created by <a href=\"http://abu.lu.lv\" target=\"_blank\"><b>Dr. Abuzer Yakaryilmaz</b></a> (<a href=\"http://qworld.lu.lv/index.php/qlatvia/\" target=\"_blank\">QLatvia</a>) in October 2018, and the most part of it has been developed by him.\n",
    "\n",
    "<b>Dr. Maksims Dimitrijevs</b> (<a href=\"http://qworld.lu.lv/index.php/qlatvia/\" target=\"_blank\">QLatvia</a>) and <b>Dr. Özlem Salehi Köken</b> (<a href=\"http://qworld.lu.lv/index.php/qturkey/\" target=\"_blank\">QTurkey</a>) have revised all notebooks, proposed certain changes, and prepared a couple of new notebooks.\n",
    "\n",
    "The first recording lectures were prepared by <b>Dr. Abuzer Yakaryilmaz</b>, <b>Dr. Özlem Salehi Köken</b>, and <b>Anastasija Trizna</b> (<a href=\"http://qworld.lu.lv/index.php/qlatvia/\" target=\"_blank\">QLatvia</a>).\n",
    "\n",
    "Starting from <b>July 7, 2019</b>, Bronze has been on a public gitlab repository (https://gitlab.com/qkitchen/basics-of-quantum-computing) and it is expected to have contributions from public as well. "
   ]
  },
  {
   "cell_type": "markdown",
   "metadata": {},
   "source": [
    "<hr>\n",
    "<h3>Bronze 2020</h3>\n",
    "\n",
    "Bronze has been revised throughout 2020. \n",
    "\n",
    "We thank to the participants of [QTraining for Bronze program](https://qworld.lu.lv/index.php/qtraining-for-bronze-2020/) for their corrections and suggestions."
   ]
  },
  {
   "cell_type": "markdown",
   "metadata": {},
   "source": [
    "<hr>\n",
    "<h3>Bronze 2019</h3>\n",
    "\n",
    "We thank to <b><i><a href=\"https://qworld.lu.lv/index.php/qdrive/\" target=\"_blank\">QDrive</a> mentors and participants</i></b> for their very helpful corrections and suggestions.\n",
    "\n",
    "We thank <b><i><a href=\"https://pl.linkedin.com/in/adamglos92\" target=\"_blank\">Adam Glos</a></i></b> (<a href=\"http://qworld.lu.lv/index.php/qpoland/\" target=\"_blank\">QPoland</a>) for his comments on Bronze 2018."
   ]
  },
  {
   "cell_type": "markdown",
   "metadata": {},
   "source": [
    "<hr>\n",
    "<h3>Bronze 2018</h3>\n",
    "\n",
    "We thank to <b><i>Katrina Kizenbaha</i></b> from Riga TechGirls for her revisions on our notebooks on python.\n",
    "\n",
    "We thank to <b><i>Martins Kalis</i></b> (QLatvia) for his technical comments on python, qiskit, and our notebooks.\n",
    "\n",
    "We thank to <b><i>Maksims Dimitrijevs</i></b> (QLatvia) for his careful reading and corrections on our notebooks.\n",
    "\n",
    "We thank to QLatvia members and former members <b><i>Martins Kalis</i></b>, <b><i>Maksims Dimitrijevs</i></b>, <b><i>Aleksejs Naumovs</i></b>, <b><i>Andis Draguns</i></b>, and <b><i>Matiss Apinis</i></b>  for their help and support.\n",
    "\n",
    "We thank to <b><i>the students (<a href=\"https://www.df.lu.lv\">DF@LU</a>) attending quantum programming's meetings</i></b> on each Friday (Fall 2018) for their comments while working with our notebooks.\n",
    "<hr>"
   ]
  }
 ],
 "metadata": {
  "kernelspec": {
   "display_name": "Python 3",
   "language": "python",
   "name": "python3"
  },
  "language_info": {
   "codemirror_mode": {
    "name": "ipython",
    "version": 3
   },
   "file_extension": ".py",
   "mimetype": "text/x-python",
   "name": "python",
   "nbconvert_exporter": "python",
   "pygments_lexer": "ipython3",
   "version": "3.7.1"
  }
 },
 "nbformat": 4,
 "nbformat_minor": 2
}
