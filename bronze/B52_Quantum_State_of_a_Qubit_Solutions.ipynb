{
 "cells": [
  {
   "cell_type": "markdown",
   "metadata": {},
   "source": [
    "<table> <tr>\n",
    "        <td  style=\"background-color:#ffffff;\">\n",
    "            <a href=\"http://qworld.lu.lv\" target=\"_blank\"><img src=\"../images/qworld.jpg\" width=\"25%\" align=\"left\"> </a></td>\n",
    "        <td style=\"background-color:#ffffff;vertical-align:bottom;text-align:right;\">\n",
    "            prepared by <a href=\"http://abu.lu.lv\" target=\"_blank\">Abuzer Yakaryilmaz</a> (<a href=\"http://qworld.lu.lv/index.php/qlatvia/\" target=\"_blank\">QLatvia</a>)\n",
    "        </td>        \n",
    "</tr></table>"
   ]
  },
  {
   "cell_type": "markdown",
   "metadata": {},
   "source": [
    "<table width=\"100%\"><tr><td style=\"color:#bbbbbb;background-color:#ffffff;font-size:11px;font-style:italic;text-align:right;\">This cell contains some macros. If there is a problem with displaying mathematical formulas, please run this cell to load these macros. </td></tr></table>\n",
    "$ \\newcommand{\\bra}[1]{\\langle #1|} $\n",
    "$ \\newcommand{\\ket}[1]{|#1\\rangle} $\n",
    "$ \\newcommand{\\braket}[2]{\\langle #1|#2\\rangle} $\n",
    "$ \\newcommand{\\dot}[2]{ #1 \\cdot #2} $\n",
    "$ \\newcommand{\\biginner}[2]{\\left\\langle #1,#2\\right\\rangle} $\n",
    "$ \\newcommand{\\mymatrix}[2]{\\left( \\begin{array}{#1} #2\\end{array} \\right)} $\n",
    "$ \\newcommand{\\myvector}[1]{\\mymatrix{c}{#1}} $\n",
    "$ \\newcommand{\\myrvector}[1]{\\mymatrix{r}{#1}} $\n",
    "$ \\newcommand{\\mypar}[1]{\\left( #1 \\right)} $\n",
    "$ \\newcommand{\\mybigpar}[1]{ \\Big( #1 \\Big)} $\n",
    "$ \\newcommand{\\sqrttwo}{\\frac{1}{\\sqrt{2}}} $\n",
    "$ \\newcommand{\\dsqrttwo}{\\dfrac{1}{\\sqrt{2}}} $\n",
    "$ \\newcommand{\\onehalf}{\\frac{1}{2}} $\n",
    "$ \\newcommand{\\donehalf}{\\dfrac{1}{2}} $\n",
    "$ \\newcommand{\\hadamard}{ \\mymatrix{rr}{ \\sqrttwo & \\sqrttwo \\\\ \\sqrttwo & -\\sqrttwo }} $\n",
    "$ \\newcommand{\\vzero}{\\myvector{1\\\\0}} $\n",
    "$ \\newcommand{\\vone}{\\myvector{0\\\\1}} $\n",
    "$ \\newcommand{\\stateplus}{\\myvector{ \\sqrttwo \\\\  \\sqrttwo } } $\n",
    "$ \\newcommand{\\stateminus}{ \\myrvector{ \\sqrttwo \\\\ -\\sqrttwo } } $\n",
    "$ \\newcommand{\\myarray}[2]{ \\begin{array}{#1}#2\\end{array}} $\n",
    "$ \\newcommand{\\X}{ \\mymatrix{cc}{0 & 1 \\\\ 1 & 0}  } $\n",
    "$ \\newcommand{\\I}{ \\mymatrix{rr}{1 & 0 \\\\ 0 & 1}  } $\n",
    "$ \\newcommand{\\Z}{ \\mymatrix{rr}{1 & 0 \\\\ 0 & -1}  } $\n",
    "$ \\newcommand{\\Htwo}{ \\mymatrix{rrrr}{ \\frac{1}{2} & \\frac{1}{2} & \\frac{1}{2} & \\frac{1}{2} \\\\ \\frac{1}{2} & -\\frac{1}{2} & \\frac{1}{2} & -\\frac{1}{2} \\\\ \\frac{1}{2} & \\frac{1}{2} & -\\frac{1}{2} & -\\frac{1}{2} \\\\ \\frac{1}{2} & -\\frac{1}{2} & -\\frac{1}{2} & \\frac{1}{2} } } $\n",
    "$ \\newcommand{\\CNOT}{ \\mymatrix{cccc}{1 & 0 & 0 & 0 \\\\ 0 & 1 & 0 & 0 \\\\ 0 & 0 & 0 & 1 \\\\ 0 & 0 & 1 & 0} } $\n",
    "$ \\newcommand{\\norm}[1]{ \\left\\lVert #1 \\right\\rVert } $\n",
    "$ \\newcommand{\\pstate}[1]{ \\lceil \\mspace{-1mu} #1 \\mspace{-1.5mu} \\rfloor } $"
   ]
  },
  {
   "cell_type": "markdown",
   "metadata": {},
   "source": [
    "<h2> <font color=\"blue\"> Solutions for </font>Quantum State of a Qubit</h2>"
   ]
  },
  {
   "cell_type": "markdown",
   "metadata": {},
   "source": [
    "<a id=\"task1\"></a>\n",
    "<h3> Task 1 </h3>\n",
    "\n",
    "Randomly create a quantum state: $\\myvector{x\\\\y}$.\n",
    "\n",
    "<table align=\"left\"><tr><td><i>\n",
    "You may use your code written for <a href=\"B28_Quantum_State.ipynb#task2\">a task given in notebook \"Quantum States\"</a>.\n",
    "</i></td></tr></table><br><br>\n",
    "\n",
    "Draw your quantum state on the unit circle.\n",
    "\n",
    "Then, determine its angle with $\\ket{0}$ by using method \"math.acos(x)\" in python.\n",
    "\n",
    "Visually verify your result.\n",
    "\n",
    "Repeat this task for a few times."
   ]
  },
  {
   "cell_type": "markdown",
   "metadata": {},
   "source": [
    "<h3>Solution</h3>"
   ]
  },
  {
   "cell_type": "markdown",
   "metadata": {},
   "source": [
    "A function for randomly creating a 2-dimensional quantum state:"
   ]
  },
  {
   "cell_type": "code",
   "execution_count": null,
   "metadata": {},
   "outputs": [],
   "source": [
    "# randomly create a 2-dimensional quantum state\n",
    "from random import randrange\n",
    "def random_quantum_state():\n",
    "    first_entry = randrange(101)\n",
    "    first_entry = first_entry/100\n",
    "    first_entry = first_entry**0.5 \n",
    "    if randrange(2) == 0: \n",
    "        first_entry = -1 * first_entry\n",
    "    second_entry = 1 - (first_entry**2)\n",
    "    second_entry = second_entry**0.5\n",
    "    if randrange(2) == 0: \n",
    "        second_entry = -1 * second_entry\n",
    "    return [first_entry,second_entry]"
   ]
  },
  {
   "cell_type": "markdown",
   "metadata": {},
   "source": [
    "We randomly pick 6 quantum states, and then draw each and print the degree of its angle with state $\\ket{0}$."
   ]
  },
  {
   "cell_type": "code",
   "execution_count": null,
   "metadata": {},
   "outputs": [],
   "source": [
    "%run qlatvia.py\n",
    "\n",
    "draw_qubit()\n",
    "\n",
    "from math import acos, pi\n",
    "\n",
    "# randomly picking 6 quantum states\n",
    "for i in range(6): \n",
    "    [x,y]=random_quantum_state() # picking a quantum state \n",
    "    angle_radian = acos(x) # radian of the angle with state |0>\n",
    "    angle_degree = 360*angle_radian/(2*pi) # degree of the angle with state |0>\n",
    "    state_name='|v'+str(i)+'>' # giving a name to the quantum state\n",
    "    draw_quantum_state(x,y,state_name) # drawing the quantum state\n",
    "    print(state_name,'has degree of',angle_degree,\"with state |0>\") # print the degree of angle with state |0>"
   ]
  },
  {
   "cell_type": "markdown",
   "metadata": {},
   "source": [
    "<a id=\"task2\"></a>\n",
    "<h3> Task 2 </h3>\n",
    "\n",
    "Randomly create a quantum state, and then find its angle. \n",
    "\n",
    "<table align=\"left\"><tr><td><i>\n",
    "You may use your code written for <a href=\"B28_Quantum_State.ipynb#task2\">a task given in notebook \"Quantum States\"</a>.\n",
    "</i></td></tr></table><br><br>\n",
    "\n",
    "Draw your quantum state on the unit circle.\n",
    "\n",
    "Visually verify your result.\n",
    "\n",
    "Repeat this task for a few times."
   ]
  },
  {
   "cell_type": "markdown",
   "metadata": {},
   "source": [
    "<h3>Solution</h3>"
   ]
  },
  {
   "cell_type": "markdown",
   "metadata": {},
   "source": [
    "A function for randomly creating a 2-dimensional quantum state:"
   ]
  },
  {
   "cell_type": "code",
   "execution_count": null,
   "metadata": {},
   "outputs": [],
   "source": [
    "# randomly create a 2-dimensional quantum state\n",
    "from random import randrange\n",
    "def random_quantum_state():\n",
    "    first_entry = randrange(101)\n",
    "    first_entry = first_entry/100\n",
    "    first_entry = first_entry**0.5 \n",
    "    if randrange(2) == 0: \n",
    "        first_entry = -1 * first_entry\n",
    "    second_entry = 1 - (first_entry**2)\n",
    "    second_entry = second_entry**0.5\n",
    "    if randrange(2) == 0: \n",
    "        second_entry = -1 * second_entry\n",
    "    return [first_entry,second_entry]"
   ]
  },
  {
   "cell_type": "markdown",
   "metadata": {},
   "source": [
    "A function for finding the angle of a 2-dimensional quantum state:"
   ]
  },
  {
   "cell_type": "code",
   "execution_count": null,
   "metadata": {},
   "outputs": [],
   "source": [
    "# finding the angle of a 2-dimensional quantum state\n",
    "from math import acos, pi\n",
    "def angle_quantum_state(x,y):\n",
    "    angle_radian = acos(x) # radian of the angle with state |0>\n",
    "    angle_degree = 360*angle_radian/(2*pi) # degree of the angle with state |0>\n",
    "    # if the second amplitude is negative, \n",
    "    #     then angle is (-angle_degree)\n",
    "    #     or equivalently 360 + (-angle_degree)\n",
    "    if y<0: angle_degree = 360-angle_degree # degree of the angle\n",
    "    # else degree of the angle is the same as degree of the angle with state |0>\n",
    "    return angle_degree"
   ]
  },
  {
   "cell_type": "markdown",
   "metadata": {},
   "source": [
    "We randomly pick 4 quantum states, and then draw each and print the degree of its angle."
   ]
  },
  {
   "cell_type": "code",
   "execution_count": null,
   "metadata": {},
   "outputs": [],
   "source": [
    "%run qlatvia.py\n",
    "\n",
    "draw_qubit()\n",
    "\n",
    "from math import acos, pi\n",
    "\n",
    "# randomly picking 6 quantum states\n",
    "for i in range(4): \n",
    "    [x,y]=random_quantum_state() # picking a quantum state \n",
    "    angle_degree = angle_quantum_state(x,y)\n",
    "    state_name='|v'+str(i)+'>' # giving a name to the quantum state\n",
    "    draw_quantum_state(x,y,state_name) # drawing the quantum state\n",
    "    print(state_name,'has degree of',angle_degree) # print the degree of angle"
   ]
  },
  {
   "cell_type": "code",
   "execution_count": null,
   "metadata": {},
   "outputs": [],
   "source": []
  }
 ],
 "metadata": {
  "kernelspec": {
   "display_name": "Python 3",
   "language": "python",
   "name": "python3"
  },
  "language_info": {
   "codemirror_mode": {
    "name": "ipython",
    "version": 3
   },
   "file_extension": ".py",
   "mimetype": "text/x-python",
   "name": "python",
   "nbconvert_exporter": "python",
   "pygments_lexer": "ipython3",
   "version": "3.7.1"
  }
 },
 "nbformat": 4,
 "nbformat_minor": 2
}
