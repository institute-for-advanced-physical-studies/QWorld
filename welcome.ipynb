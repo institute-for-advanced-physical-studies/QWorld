{
 "cells": [
  {
   "cell_type": "markdown",
   "metadata": {},
   "source": [
    "<table><tr>\n",
    "    <td  style=\"background-color:#ffffff;text-align:left;\"><a href=\"http://qworld.lu.lv\" target=\"_blank\"><img src=\"images/qworld.jpg\" width=\"30%\" align=\"left\"></a></td>\n",
    "    <td style=\"background-color:#ffffff;\">&nbsp;</td>\n",
    "    <td style=\"background-color:#ffffff;vertical-align:text-middle;text-align:right;\">\n",
    "        <table><tr style=\"background-color:white;\">\n",
    "            <td>Follow</td>\n",
    "            <td><a href=\"https://www.facebook.com/qworld19/\" target=\"_blank\"><img src=\"images/facebook-icon.png\" width=\"40px\"></a></td>\n",
    "            <td><a href=\"https://twitter.com/QWorld19\" target=\"_blank\"><img src=\"images/twitter-icon.png\" width=\"40px\"></a></td>\n",
    "            <td width=\"10pt\"></td>\n",
    "            <td> Join</td>\n",
    "            <td><a href=\"https://qworldworkspace.slack.com/\" target=\"_blank\"><img src=\"images/slack-icon.png\" width=\"80px\"></a></td>\n",
    "             <td width=\"10pt\"></td>\n",
    "            <td> Visit</td>\n",
    "            <td><a href=\"http://qworld.lu.lv\" target=\"_blank\"><img src=\"images/web-logo.png\" width=\"35px\"></a></td>\n",
    "        </tr></table>\n",
    "    </td>     \n",
    "</tr></table>"
   ]
  },
  {
   "cell_type": "markdown",
   "metadata": {},
   "source": [
    "<h1 align=\"center\" style=\"color: #cd7f32;\"> Welcome to QWorld's Bronze </h1>"
   ]
  },
  {
   "cell_type": "markdown",
   "metadata": {},
   "source": [
    "<font style=\"color: #cd7f32;size:+1;\"><b>Bronze</b></font> is our introductory tutorial to introduce the basics of quantum computation and quantum programming. It is a big collection of [Jupyter notebooks](https://jupyter.org).\n",
    "\n",
    "Bronze can be used to organize 16-20 hours long workshops or to design one-semester course for the second or third year university students. In Bronze, we focus on real numbers and skip to use complex numbers to keep the tutorial simpler. Here is a complete list of our workshops using Bronze: <a href=\"http://qworld.lu.lv/index.php/workshop-bronze/#list\" target=\"_blank\">QBronze</a>. \n",
    "\n",
    "*If you are using Jupyter notebooks for the first time, you can check our very short <a href=\"python/Python02_Into_Notebooks.ipynb\" target=\"_blank\">Introduction for Notebooks</a>.*\n",
    "\n",
    "**The open-source toolkits we are using**\n",
    "- Programming language: <a href=\"https://www.python.org\" target=\"_blank\">python</a>\n",
    "- Quantum programming libraries:</u> <a href=\"https://qiskit.org\" target=\"_blank\">Qiskit</a> is the main library at the moment. We are extending Bronze to use <a href=\"https://projectq.ch\" target=\"_blank\">ProjectQ</a>, <a href=\"https://github.com/quantumlib/Cirq\" target=\"_blank\">Cirq</a>, and <a href=\"http://docs.rigetti.com/en/stable/\" target=\"_blank\">pyQuil</a>.\n",
    "- We use <a href=\"https://www.mathjax.org\" target=\"_blank\">MathJax</a> to display mathematical expressions on html files (e.g., exercises).\n",
    "-  We use open source  interactive tool <a href=\"http://play.quantumgame.io\" target=\"_blank\">quantumgame</a> for showing quantum coin flipping experiments."
   ]
  },
  {
   "cell_type": "markdown",
   "metadata": {},
   "source": [
    "<h3 align=\"right\">\n",
    "    <a href=\"content.ipynb\" style=\"color:#cd7f32;text-decoration:none;\">Proceed with the content page >></a>\n",
    "</h3>"
   ]
  }
 ],
 "metadata": {
  "kernelspec": {
   "display_name": "Python 3",
   "language": "python",
   "name": "python3"
  },
  "language_info": {
   "codemirror_mode": {
    "name": "ipython",
    "version": 3
   },
   "file_extension": ".py",
   "mimetype": "text/x-python",
   "name": "python",
   "nbconvert_exporter": "python",
   "pygments_lexer": "ipython3",
   "version": "3.7.1"
  }
 },
 "nbformat": 4,
 "nbformat_minor": 2
}
